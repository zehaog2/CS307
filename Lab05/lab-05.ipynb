{
 "cells": [
  {
   "cell_type": "code",
   "execution_count": 53,
   "metadata": {},
   "outputs": [],
   "source": [
    "import numpy as np\n",
    "import pandas as pd\n",
    "from sklearn.tree import DecisionTreeRegressor\n",
    "from sklearn.preprocessing import StandardScaler\n",
    "from sklearn.linear_model import Ridge, Lasso\n",
    "from sklearn.feature_selection import SelectKBest, f_regression\n",
    "from sklearn.ensemble import VotingRegressor\n",
    "from sklearn.ensemble import RandomForestRegressor\n",
    "from sklearn.ensemble import HistGradientBoostingRegressor\n",
    "from sklearn.model_selection import GridSearchCV, train_test_split, cross_val_score\n",
    "from sklearn.pipeline import Pipeline\n",
    "from joblib import dump\n",
    "genes_train = pd.read_csv(\"https://cs307.org/lab-05/data/genes-train.csv\")\n",
    "X_train = genes_train.drop(\"y\", axis=1)\n",
    "y_train = genes_train[\"y\"]"
   ]
  },
  {
   "cell_type": "code",
   "execution_count": 30,
   "metadata": {},
   "outputs": [
    {
     "data": {
      "text/plain": [
       "(900, 751)"
      ]
     },
     "execution_count": 30,
     "metadata": {},
     "output_type": "execute_result"
    }
   ],
   "source": [
    "row = genes_train.shape[0]\n",
    "col = genes_train.shape[1]\n",
    "row, col"
   ]
  },
  {
   "cell_type": "code",
   "execution_count": 52,
   "metadata": {},
   "outputs": [
    {
     "data": {
      "text/plain": [
       "(0.7487071364994092, {'alpha': 10.0}, {'alpha': 10.0})"
      ]
     },
     "execution_count": 52,
     "metadata": {},
     "output_type": "execute_result"
    }
   ],
   "source": [
    "ridge = Ridge()\n",
    "param_grid = {\n",
    "    'alpha': [0.1, 1.0, 10.0]\n",
    "}\n",
    "grid_search = GridSearchCV(ridge,param_grid,cv=5, n_jobs=-1,scoring='neg_mean_squared_error', verbose = 0)\n",
    "grid_search.fit(X_train, y_train)\n",
    "y_pred = grid_search.predict(X_train)\n",
    "best_param = grid_search.best_params_\n",
    "rmse = np.sqrt(-grid_search.best_score_)\n",
    "rmse, best_param, best_param"
   ]
  },
  {
   "cell_type": "code",
   "execution_count": 87,
   "metadata": {},
   "outputs": [
    {
     "data": {
      "text/plain": [
       "(0.36526801942259074,\n",
       " {'alpha': 0.045, 'max_iter': 150, 'selection': 'random', 'tol': 0.001},\n",
       " {'alpha': 0.045, 'max_iter': 150, 'selection': 'random', 'tol': 0.001})"
      ]
     },
     "execution_count": 87,
     "metadata": {},
     "output_type": "execute_result"
    }
   ],
   "source": [
    "lasso = Lasso()\n",
    "param_grid = {\n",
    "    'alpha': [0.04,0.045,0.05,0.055,],\n",
    "    'max_iter':[100,150, 180, 200,220,250, 300,400],\n",
    "    'selection': ['random','cyclic'], ## these don't matter\n",
    "    'tol': [0.1, 0.05, 0.01,0.1,0.001,0.0001],\n",
    "}\n",
    "grid_search0 = GridSearchCV(lasso,param_grid,cv=10, n_jobs=-1,scoring='neg_mean_squared_error', verbose = 0)\n",
    "grid_search0.fit(X_train, y_train)\n",
    "y_pred = grid_search0.predict(X_train)\n",
    "best_param = grid_search0.best_params_\n",
    "rmse = np.sqrt(-grid_search0.best_score_)\n",
    "rmse, best_param, best_param"
   ]
  },
  {
   "cell_type": "code",
   "execution_count": 28,
   "metadata": {},
   "outputs": [
    {
     "data": {
      "text/plain": [
       "({'learning_rate': 0.1, 'max_depth': 2, 'max_iter': 500, 'max_leaf_nodes': 2},\n",
       " 1.426389262614254)"
      ]
     },
     "execution_count": 28,
     "metadata": {},
     "output_type": "execute_result"
    }
   ],
   "source": [
    "\n",
    "boost = HistGradientBoostingRegressor()\n",
    "\n",
    "param_grid = {\n",
    "    \"max_iter\": [100,300,500,800],\n",
    "    \"learning_rate\": [0.1,0.01,0.05],\n",
    "    \"max_leaf_nodes\": [2],\n",
    "    \"max_depth\": [2]\n",
    "}\n",
    "grid_search1 = GridSearchCV(boost, param_grid, n_jobs=-1, cv = 5,scoring='neg_root_mean_squared_error', verbose=0)\n",
    "grid_search1.fit(X_train,y_train)\n",
    "best_params = grid_search1.best_params_\n",
    "best_score = np.sqrt(-grid_search1.best_score_)\n",
    "y_pred = grid_search1.predict(X_train)\n",
    "best_params, best_score"
   ]
  },
  {
   "cell_type": "code",
   "execution_count": 23,
   "metadata": {},
   "outputs": [
    {
     "data": {
      "text/plain": [
       "0.8666835020782406"
      ]
     },
     "execution_count": 23,
     "metadata": {},
     "output_type": "execute_result"
    }
   ],
   "source": [
    "dt = DecisionTreeRegressor(max_depth=10)\n",
    "dt.fit(X_train, y_train)\n",
    "preds = dt.predict(X_train)\n",
    "np.sqrt(np.mean((y_train - preds) ** 2)) # Looks like the very deep single decision tree get the job done!"
   ]
  },
  {
   "cell_type": "code",
   "execution_count": 29,
   "metadata": {},
   "outputs": [
    {
     "data": {
      "text/plain": [
       "({'max_depth': 3,\n",
       "  'max_leaf_nodes': 3,\n",
       "  'min_samples_split': 3,\n",
       "  'n_estimators': 1000},\n",
       " 2.846460043596208)"
      ]
     },
     "execution_count": 29,
     "metadata": {},
     "output_type": "execute_result"
    }
   ],
   "source": [
    "rf = RandomForestRegressor(max_features=20)\n",
    "\n",
    "param_grid = {\n",
    "    \"n_estimators\": [100, 1000],\n",
    "    \"max_leaf_nodes\": [3],\n",
    "    \"max_depth\": [3],\n",
    "    \"min_samples_split\" : [3]\n",
    "}\n",
    "grid_search2 = GridSearchCV(rf, param_grid,n_jobs=-1,cv = 5,scoring='neg_root_mean_squared_error', verbose=0)\n",
    "grid_search2.fit(X_train,y_train)\n",
    "best_params = grid_search2.best_params_\n",
    "best_score = np.sqrt(-grid_search2.best_score_)\n",
    "best_params,best_score"
   ]
  },
  {
   "cell_type": "code",
   "execution_count": 88,
   "metadata": {},
   "outputs": [
    {
     "data": {
      "text/plain": [
       "['gene-expression.joblib']"
      ]
     },
     "execution_count": 88,
     "metadata": {},
     "output_type": "execute_result"
    }
   ],
   "source": [
    "dump(grid_search0,'gene-expression.joblib')"
   ]
  },
  {
   "cell_type": "code",
   "execution_count": null,
   "metadata": {},
   "outputs": [],
   "source": []
  }
 ],
 "metadata": {
  "kernelspec": {
   "display_name": "Python 3",
   "language": "python",
   "name": "python3"
  },
  "language_info": {
   "codemirror_mode": {
    "name": "ipython",
    "version": 3
   },
   "file_extension": ".py",
   "mimetype": "text/x-python",
   "name": "python",
   "nbconvert_exporter": "python",
   "pygments_lexer": "ipython3",
   "version": "3.11.7"
  }
 },
 "nbformat": 4,
 "nbformat_minor": 2
}
