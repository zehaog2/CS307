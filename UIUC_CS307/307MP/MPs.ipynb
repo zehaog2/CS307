{
 "cells": [
  {
   "cell_type": "code",
   "execution_count": 1,
   "metadata": {},
   "outputs": [],
   "source": [
    "import numpy as np"
   ]
  },
  {
   "cell_type": "code",
   "execution_count": 5,
   "metadata": {},
   "outputs": [
    {
     "data": {
      "text/plain": [
       "(94.9, 85.66666666666667, 91.80166666666668)"
      ]
     },
     "execution_count": 5,
     "metadata": {},
     "output_type": "execute_result"
    }
   ],
   "source": [
    "MP = 100\n",
    "reports = 66\n",
    "labs = (100+105+100+100+97+75+97+75+100+100)/10\n",
    "hm = 100\n",
    "midterms = (88+100+69)/3\n",
    "total = midterms*0.4+MP*0.1+reports*0.05+labs*0.15+hm*0.3\n",
    "labs,midterms, total"
   ]
  },
  {
   "cell_type": "code",
   "execution_count": 6,
   "metadata": {},
   "outputs": [],
   "source": [
    "import numpy as np\n",
    "\n",
    "class KNNRegressor:\n",
    "    def __init__(self, k=5):\n",
    "        self.k = k\n",
    "        self.X_train = None\n",
    "        self.y_train = None\n",
    "    \n",
    "    def fit(self, X, y):\n",
    "        self.X_train = X\n",
    "        self.y_train = y\n",
    "    \n",
    "    def predict(self, X_new):\n",
    "        y_pred = np.zeros(len(X_new))\n",
    "        for i, x in enumerate(X_new):\n",
    "            y_pred[i] = self._predict(x)\n",
    "        return y_pred\n",
    "    \n",
    "    def _predict(self, x_new):\n",
    "        distances = np.sqrt(np.sum((self.X_train - x_new) ** 2, axis=1))\n",
    "        indices = np.argsort(distances)[:self.k]\n",
    "        k_nearest_labels = self.y_train[indices]\n",
    "        return np.mean(k_nearest_labels)"
   ]
  },
  {
   "cell_type": "code",
   "execution_count": 8,
   "metadata": {},
   "outputs": [
    {
     "data": {
      "text/plain": [
       "array([20., 30., 40.])"
      ]
     },
     "execution_count": 8,
     "metadata": {},
     "output_type": "execute_result"
    }
   ],
   "source": [
    "# Create an instance of KNNRegressor with k=3\n",
    "regressor = KNNRegressor(k=3)\n",
    "X_train = np.array([[1, 2, 3],\n",
    "                    [4, 5, 6],\n",
    "                    [7, 8, 9],\n",
    "                    [10, 11, 12],\n",
    "                    [13, 14, 15]])\n",
    "\n",
    "y_train = np.array([10, 20, 30, 40, 50])\n",
    "\n",
    "# New data for prediction\n",
    "X_new = np.array([[2, 3, 4],\n",
    "                  [8, 9, 10],\n",
    "                  [11, 12, 13]])\n",
    "# Fit the model with training data X_train and y_train\n",
    "regressor.fit(X_train, y_train)\n",
    "\n",
    "# Make predictions on new data X_new\n",
    "predictions = regressor.predict(X_new)\n",
    "predictions"
   ]
  },
  {
   "cell_type": "code",
   "execution_count": null,
   "metadata": {},
   "outputs": [],
   "source": []
  }
 ],
 "metadata": {
  "kernelspec": {
   "display_name": "Python 3",
   "language": "python",
   "name": "python3"
  },
  "language_info": {
   "codemirror_mode": {
    "name": "ipython",
    "version": 3
   },
   "file_extension": ".py",
   "mimetype": "text/x-python",
   "name": "python",
   "nbconvert_exporter": "python",
   "pygments_lexer": "ipython3",
   "version": "3.11.7"
  }
 },
 "nbformat": 4,
 "nbformat_minor": 2
}
